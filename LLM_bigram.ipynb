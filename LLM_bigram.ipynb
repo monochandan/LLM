{
 "cells": [
  {
   "cell_type": "code",
   "execution_count": 2,
   "id": "900c9d40-578d-4bdf-9258-7597f21c6284",
   "metadata": {},
   "outputs": [],
   "source": [
    "import torch\n",
    "import torch.nn as nn\n",
    "import torch.nn.functional as F"
   ]
  },
  {
   "cell_type": "code",
   "execution_count": 3,
   "id": "50c8b052-4b72-4b7a-b062-3f804432cea4",
   "metadata": {},
   "outputs": [
    {
     "name": "stdout",
     "output_type": "stream",
     "text": [
      "cpu\n"
     ]
    }
   ],
   "source": [
    "device = 'my_model' if torch.cuda.is_available() else 'cpu'\n",
    "print(device)\n",
    "\n",
    "## hyperperemeter\n",
    "\n",
    "### function: get_batch()\n",
    "block_size = 8 ### at most 6 character in a block\n",
    "batch_size = 4\n",
    "\n",
    "## function: for optimizing the model\n",
    "max_iters = 10000\n",
    "learning_rate = 3e-4\n",
    "\n",
    "##\n",
    "eval_iters = 250\n",
    "# dropout = 0.2"
   ]
  },
  {
   "cell_type": "code",
   "execution_count": 4,
   "id": "3cda2e18-0937-4bd9-94df-0adfb3e01fee",
   "metadata": {},
   "outputs": [
    {
     "name": "stdout",
     "output_type": "stream",
     "text": [
      "['\\n', ' ', '\"', '&', \"'\", '(', ')', '*', '+', ',', '-', '.', '/', '0', '1', '2', '3', '4', '5', '6', '7', '8', '9', ':', ';', '=', '?', 'A', 'B', 'C', 'D', 'E', 'F', 'G', 'H', 'I', 'J', 'K', 'L', 'M', 'N', 'O', 'P', 'Q', 'R', 'S', 'T', 'U', 'V', 'W', 'X', 'Y', 'Z', '[', ']', '_', 'a', 'b', 'c', 'd', 'e', 'f', 'g', 'h', 'i', 'j', 'k', 'l', 'm', 'n', 'o', 'p', 'q', 'r', 's', 't', 'u', 'v', 'w', 'x', 'y', 'z', '|', 'Æ', 'È', 'É', 'Ö', '×', 'Ü', 'ä', 'æ', 'ç', 'è', 'é', 'ï', 'ò', 'ö', 'ü', '\\ufeff']\n"
     ]
    }
   ],
   "source": [
    "with open('rembrandt_van_rijn.txt', 'r', encoding='utf-8') as f:\n",
    "    text = f.read()\n",
    "#print(text[:200]) \n",
    "\n",
    "## unique characters of this text\n",
    "chars = sorted(set(text))\n",
    "print(chars)\n",
    "\n",
    "\n",
    "vocab_size = len(chars)"
   ]
  },
  {
   "cell_type": "code",
   "execution_count": 5,
   "id": "7f6d1d9c-a1d0-4461-978e-ab618a657b9b",
   "metadata": {},
   "outputs": [
    {
     "name": "stdout",
     "output_type": "stream",
     "text": [
      "99\n"
     ]
    }
   ],
   "source": [
    "print(len(chars))"
   ]
  },
  {
   "cell_type": "code",
   "execution_count": 6,
   "id": "f7d8a3ca-6441-4fa4-a825-11aed054a674",
   "metadata": {},
   "outputs": [
    {
     "name": "stdout",
     "output_type": "stream",
     "text": [
      "tensor([98, 44, 31,  ...,  0,  0,  0])\n"
     ]
    }
   ],
   "source": [
    "string_to_int = {char:i for i, char in enumerate(chars)} ## each charcater is mapped into corrresponding index {key: value} --- dictionary { 'N': 40 }\n",
    "int_to_string = {i:char for i, char in enumerate(chars)} ##  each index is mapped into corresponding character --- dictionary  { 74: 's' }\n",
    "\n",
    "## lambda function named encode and decode\n",
    "encode = lambda string: [string_to_int[char] for char in string] ##  list comprehension that iterates over each character c in the input string s\n",
    "## i/p = my, encode = [3,10] (m = 3, y = 10)\n",
    "\n",
    "decode = lambda l: ''.join([int_to_string[i] for i in l]) ## \n",
    "## i/p l = [[3, 10], [10,3] , .....] o/p = my ym\n",
    "\n",
    "data = torch.tensor(encode(text), dtype = torch.long) ## each word will be as integer number\n",
    "print(data)"
   ]
  },
  {
   "cell_type": "code",
   "execution_count": 7,
   "id": "17913df8-5b99-411a-b6d7-0b715f520432",
   "metadata": {},
   "outputs": [
    {
     "data": {
      "text/plain": [
       "[63, 60, 67, 67, 70]"
      ]
     },
     "execution_count": 7,
     "metadata": {},
     "output_type": "execute_result"
    }
   ],
   "source": [
    "encode(\"hello\")"
   ]
  },
  {
   "cell_type": "code",
   "execution_count": 8,
   "id": "e4b929c3-4170-46f0-a9b9-808f44d69d5a",
   "metadata": {},
   "outputs": [
    {
     "data": {
      "text/plain": [
       "'hello'"
      ]
     },
     "execution_count": 8,
     "metadata": {},
     "output_type": "execute_result"
    }
   ],
   "source": [
    "decode([63, 60, 67, 67, 70])"
   ]
  },
  {
   "cell_type": "code",
   "execution_count": 9,
   "id": "d72ba9b2-1814-4521-a9c3-44d7f0af2359",
   "metadata": {},
   "outputs": [],
   "source": [
    "n = int(0.8 * len(data)) ## get the size of 80% of the data for seperating it for train and test\n",
    "\n",
    "train_data = data[:n]\n",
    "validation_data = data[n:]"
   ]
  },
  {
   "cell_type": "code",
   "execution_count": 10,
   "id": "131531f1-b8ce-42d7-8dc1-5c1383b22482",
   "metadata": {},
   "outputs": [
    {
     "name": "stdout",
     "output_type": "stream",
     "text": [
      "input:  tensor([98]) target:  tensor(44)\n",
      "input:  tensor([98, 44]) target:  tensor(31)\n",
      "input:  tensor([98, 44, 31]) target:  tensor(39)\n",
      "input:  tensor([98, 44, 31, 39]) target:  tensor(28)\n",
      "input:  tensor([98, 44, 31, 39, 28]) target:  tensor(44)\n",
      "input:  tensor([98, 44, 31, 39, 28, 44]) target:  tensor(27)\n",
      "input:  tensor([98, 44, 31, 39, 28, 44, 27]) target:  tensor(40)\n",
      "input:  tensor([98, 44, 31, 39, 28, 44, 27, 40]) target:  tensor(30)\n"
     ]
    }
   ],
   "source": [
    "#block_size = 6\n",
    "\n",
    "x = train_data[:block_size]\n",
    "y = train_data[1:block_size+1]\n",
    "\n",
    "for t in range(block_size):\n",
    "    context = x[:t+1]\n",
    "    target = y[t]\n",
    "    print('input: ', context, 'target: ', target) "
   ]
  },
  {
   "cell_type": "code",
   "execution_count": null,
   "id": "0520db91-afbb-4b14-802e-6d6e252672ef",
   "metadata": {},
   "outputs": [],
   "source": []
  },
  {
   "cell_type": "code",
   "execution_count": 11,
   "id": "4f874417-cfba-4fd3-9b23-1070f2b6765e",
   "metadata": {},
   "outputs": [],
   "source": [
    "## neural network\n",
    "##class"
   ]
  },
  {
   "cell_type": "code",
   "execution_count": 12,
   "id": "1cf74b19-dbbc-4369-88bf-f7efc78dc262",
   "metadata": {},
   "outputs": [
    {
     "data": {
      "text/plain": [
       "9"
      ]
     },
     "execution_count": 12,
     "metadata": {},
     "output_type": "execute_result"
    }
   ],
   "source": [
    "len('blackbord')"
   ]
  },
  {
   "cell_type": "code",
   "execution_count": 13,
   "id": "c820f7da-5450-4627-a588-fb8f7a8b683a",
   "metadata": {},
   "outputs": [
    {
     "data": {
      "text/plain": [
       "tensor([98, 44, 31, 39, 28, 44, 27, 40, 30, 46,  1, 48, 27, 40,  1, 44, 35, 36,\n",
       "        40,  0,  0,  0,  0,  0, 46, 34, 31,  1, 33, 44, 31, 27, 46,  1, 39, 27,\n",
       "        45, 46, 31, 44, 45,  1, 35, 40,  1, 42, 27, 35, 40, 46, 35, 40, 33,  1,\n",
       "        27, 40, 30,  1, 45, 29, 47, 38, 42, 46, 47, 44, 31, 11,  0,  0, 55, 46,\n",
       "        63, 60,  1, 61, 70, 67, 67, 70, 78, 64, 69, 62,  1, 48, 70, 67, 76, 68,\n",
       "        60, 74,  1, 63, 56, 77, 60,  1, 57, 60])"
      ]
     },
     "execution_count": 13,
     "metadata": {},
     "output_type": "execute_result"
    }
   ],
   "source": [
    "data[:100]"
   ]
  },
  {
   "cell_type": "code",
   "execution_count": null,
   "id": "7c2306cd-5f2c-46f8-b540-651b98dcec0c",
   "metadata": {},
   "outputs": [],
   "source": []
  },
  {
   "cell_type": "code",
   "execution_count": 14,
   "id": "5fc927cb-8550-4c3f-bb1e-e9681283b17c",
   "metadata": {},
   "outputs": [
    {
     "name": "stdout",
     "output_type": "stream",
     "text": [
      "{'\\n': 0, ' ': 1, '\"': 2, '&': 3, \"'\": 4, '(': 5, ')': 6, '*': 7, '+': 8, ',': 9, '-': 10, '.': 11, '/': 12, '0': 13, '1': 14, '2': 15, '3': 16, '4': 17, '5': 18, '6': 19, '7': 20, '8': 21, '9': 22, ':': 23, ';': 24, '=': 25, '?': 26, 'A': 27, 'B': 28, 'C': 29, 'D': 30, 'E': 31, 'F': 32, 'G': 33, 'H': 34, 'I': 35, 'J': 36, 'K': 37, 'L': 38, 'M': 39, 'N': 40, 'O': 41, 'P': 42, 'Q': 43, 'R': 44, 'S': 45, 'T': 46, 'U': 47, 'V': 48, 'W': 49, 'X': 50, 'Y': 51, 'Z': 52, '[': 53, ']': 54, '_': 55, 'a': 56, 'b': 57, 'c': 58, 'd': 59, 'e': 60, 'f': 61, 'g': 62, 'h': 63, 'i': 64, 'j': 65, 'k': 66, 'l': 67, 'm': 68, 'n': 69, 'o': 70, 'p': 71, 'q': 72, 'r': 73, 's': 74, 't': 75, 'u': 76, 'v': 77, 'w': 78, 'x': 79, 'y': 80, 'z': 81, '|': 82, 'Æ': 83, 'È': 84, 'É': 85, 'Ö': 86, '×': 87, 'Ü': 88, 'ä': 89, 'æ': 90, 'ç': 91, 'è': 92, 'é': 93, 'ï': 94, 'ò': 95, 'ö': 96, 'ü': 97, '\\ufeff': 98}\n"
     ]
    }
   ],
   "source": [
    "print(string_to_int)"
   ]
  },
  {
   "cell_type": "code",
   "execution_count": 15,
   "id": "fde59af9-c550-4996-8159-e7e47b4d5855",
   "metadata": {},
   "outputs": [
    {
     "name": "stdout",
     "output_type": "stream",
     "text": [
      "{0: '\\n', 1: ' ', 2: '\"', 3: '&', 4: \"'\", 5: '(', 6: ')', 7: '*', 8: '+', 9: ',', 10: '-', 11: '.', 12: '/', 13: '0', 14: '1', 15: '2', 16: '3', 17: '4', 18: '5', 19: '6', 20: '7', 21: '8', 22: '9', 23: ':', 24: ';', 25: '=', 26: '?', 27: 'A', 28: 'B', 29: 'C', 30: 'D', 31: 'E', 32: 'F', 33: 'G', 34: 'H', 35: 'I', 36: 'J', 37: 'K', 38: 'L', 39: 'M', 40: 'N', 41: 'O', 42: 'P', 43: 'Q', 44: 'R', 45: 'S', 46: 'T', 47: 'U', 48: 'V', 49: 'W', 50: 'X', 51: 'Y', 52: 'Z', 53: '[', 54: ']', 55: '_', 56: 'a', 57: 'b', 58: 'c', 59: 'd', 60: 'e', 61: 'f', 62: 'g', 63: 'h', 64: 'i', 65: 'j', 66: 'k', 67: 'l', 68: 'm', 69: 'n', 70: 'o', 71: 'p', 72: 'q', 73: 'r', 74: 's', 75: 't', 76: 'u', 77: 'v', 78: 'w', 79: 'x', 80: 'y', 81: 'z', 82: '|', 83: 'Æ', 84: 'È', 85: 'É', 86: 'Ö', 87: '×', 88: 'Ü', 89: 'ä', 90: 'æ', 91: 'ç', 92: 'è', 93: 'é', 94: 'ï', 95: 'ò', 96: 'ö', 97: 'ü', 98: '\\ufeff'}\n"
     ]
    }
   ],
   "source": [
    "print(int_to_string)"
   ]
  },
  {
   "cell_type": "code",
   "execution_count": 16,
   "id": "a7686e19-2feb-4a84-b35c-3de3b146b613",
   "metadata": {},
   "outputs": [
    {
     "name": "stdout",
     "output_type": "stream",
     "text": [
      "[63, 60, 67, 67, 70, 1, 78, 70, 73, 67, 59]\n"
     ]
    }
   ],
   "source": [
    "print(encode('hello world'))"
   ]
  },
  {
   "cell_type": "code",
   "execution_count": 17,
   "id": "d34b32e5-dabd-4d01-90d0-ef033706f10d",
   "metadata": {},
   "outputs": [
    {
     "name": "stdout",
     "output_type": "stream",
     "text": [
      "hello\n"
     ]
    }
   ],
   "source": [
    "print(decode([63, 60, 67, 67, 70]))"
   ]
  },
  {
   "cell_type": "code",
   "execution_count": 18,
   "id": "3aa635b9-611e-4a88-aeb0-c212c470b576",
   "metadata": {},
   "outputs": [
    {
     "name": "stdout",
     "output_type": "stream",
     "text": [
      "270153\n"
     ]
    }
   ],
   "source": [
    "print(len(data))"
   ]
  },
  {
   "cell_type": "code",
   "execution_count": 19,
   "id": "921c207c-2d68-4e0c-9619-702932b7a3e5",
   "metadata": {},
   "outputs": [
    {
     "name": "stdout",
     "output_type": "stream",
     "text": [
      "inputs: \n",
      "tensor([[68, 56, 11,  0, 27,  1, 61, 70],\n",
      "        [ 1,  1,  1,  1,  1,  1,  1, 82],\n",
      "        [78, 70, 73, 67, 59, 67, 80,  0],\n",
      "        [ 1, 37, 44, 47, 38,  0,  0,  5]])\n",
      "targtes: \n",
      "tensor([[56, 11,  0, 27,  1, 61, 70, 76],\n",
      "        [ 1,  1,  1,  1,  1,  1, 82,  0],\n",
      "        [70, 73, 67, 59, 67, 80,  0, 71],\n",
      "        [37, 44, 47, 38,  0,  0,  5, 14]])\n"
     ]
    }
   ],
   "source": [
    "def get_batch(split):\n",
    "    data = train_data if split == 'train' else validation_data\n",
    "    # block_size = 8 ##  declared upper ---- here, only for remembaring\n",
    "    # batch_size = 4\n",
    "    ix = torch.randint(len(data) - block_size, (batch_size,)) # generate random indices from 0 to len(data) - block_size, batch_size x _ dimension\n",
    "    # print(ix) # tensor([60, 60,  1, 70, 61,  0, 71, 73])\n",
    "    x = torch.stack([data[i:i + block_size] for i in ix]) ## construction of input sequence --- if [60, 60,  1, 70, 61,  0, 71, 73]\n",
    "    y = torch.stack([data[i + 1: i + block_size+1] for i in ix]) ## construction of output sequence --- then [60,  1, 70, 61,  0, 71, 73, 70]\n",
    "    \n",
    "    x, y = x.to(device), y.to(device) ##  to use GPU for better preformance\n",
    "    return x, y\n",
    "\n",
    "x, y = get_batch('train')\n",
    "\n",
    "print('inputs: ')\n",
    "print(x)\n",
    "# tensor([[63, 56, 77, 60,  1, 71],\n",
    "#         [56, 58, 60,  1, 78, 63],\n",
    "#         [30, 60, 74, 75, 73, 76],\n",
    "#         [ 1, 57, 76, 73, 64, 60]])\n",
    "\n",
    "print('targtes: ')\n",
    "print(y)\n",
    "# tensor([[56, 77, 60,  1, 71],\n",
    "#         [58, 60,  1, 78, 63],\n",
    "#         [60, 74, 75, 73, 76],\n",
    "#         [57, 76, 73, 64, 60]])\n"
   ]
  },
  {
   "cell_type": "code",
   "execution_count": 20,
   "id": "667c59db-f696-4a8d-86e0-ed2ff6b5d72e",
   "metadata": {},
   "outputs": [],
   "source": [
    "@torch.no_grad() ##  pytorch does not use gredient for fast computation\n",
    "def loss_estimation(): ## called from the pytorch optimizer cell\n",
    "    out = {}\n",
    "    model.eval() ##  for evaluating the model\n",
    "    for split in ['train', 'val']:\n",
    "        losses = torch.zeros(eval_iters)\n",
    "        for k in range(eval_iters):\n",
    "            X, Y = get_batch(split)\n",
    "            logits, loss = model(X, Y)\n",
    "            losses[k] = loss.item()\n",
    "        out[split] = losses.mean() ## {train: 2.123}\n",
    "    model.train() ### train the model\n",
    "    return out"
   ]
  },
  {
   "cell_type": "code",
   "execution_count": 21,
   "id": "e4e02968-e5c1-43fb-9db9-ebc16a9d67be",
   "metadata": {},
   "outputs": [
    {
     "name": "stdout",
     "output_type": "stream",
     "text": [
      "\n",
      "K:]pw)È) c×R1TgtAWz+TrÈb2XTr|M*EöqRys0ak0mC3ägK1Sl.mWQ+1è3r|ZN' 4UèVÈönQKæsdf×[|v/mAW1DkSA0\"8gt'æSg&LwrJfmQ0ViÆIE zxòh[é;|\n",
      "C4s3ü'5Wò)\n",
      "DbnéÆ|vIeòòmä]ÈP(iòh/=Æo[3=(iä_ÜFI-)xò(uöò?WUen/_*F|üDJ||m4&ivXjjjQï*OzkbvM9×Wq8ÈPy8. É ò[ò×a_=7HfilLçGòG×ÖMFLy﻿QmH)?.[Pp'L﻿n9x0çjNEfRXQ0LqsmAC&/ööézòræsBEn&v:d?skT\n",
      "m3oN?æsç8JÆç6d&qÜlW/2aÖ9Eü+YAèÈ[/Üï[3qsM&×|kIörqüR\n",
      "zÖwM.i*jhmAggJ2:ID2\n",
      "*WKFm'hKÈ?F7JoNöcMt(ü.ÉÜ0j=6'4FOp)SæïuWO0sv+bq×w*i2Ét\";pA xf8V hä*Wo\n",
      "m*ò×P\"×LF4=6ÆIwszJÖòò×Ö?w_?ic=,9:uI(3eXE9Lg&üü*TjJJèÈ/éü5× öW\n"
     ]
    }
   ],
   "source": [
    "## define and call model \n",
    "class bigram_language_model(nn.Module):\n",
    "    def __init__(self, vocab_size):\n",
    "        super().__init__()\n",
    "        self.token_embedding_table = nn.Embedding(vocab_size, vocab_size)\n",
    "        \n",
    "    ## why is it important to write forward pass function in pytorch for beginners\n",
    "    def forward(self, index, targets=None): ## input index -- token indecies\n",
    "        logits = self.token_embedding_table(index)\n",
    "\n",
    "        if targets is None:\n",
    "            loss = None\n",
    "            \n",
    "        else:\n",
    "            B, T, C = logits.shape \n",
    "            ## batch size(sequences processed prallely), \n",
    "            ## sequence length (represent length of each sequence),  \n",
    "            ## number of classes (vocabulary size)\n",
    "\n",
    "            ## model outputs logits in a typical sequence prediction task\n",
    "            logits = logits.view(B * T, C) ## logit tensor usually has this shape size -- we have to reshape it \n",
    "            targets = targets.view(B * T) ## no need to reshape as ligits, since its structure is correct for computing the loss \n",
    "            loss = F.cross_entropy(logits, targets) ## https://pytorch.org/docs/stable/generated/torch.nn.functional.cross_entropy.html#torch.nn.functional.cross_entropy\n",
    "        \n",
    "        return logits, loss\n",
    "\n",
    "\n",
    "    def generate(self, index, max_new_tokens):\n",
    "        '''\n",
    "        index : current index of the context\n",
    "        depend on the current index context it will generate next 500 characters index , then using decode we get the actual characters\n",
    "        '''\n",
    "\n",
    "        for _ in range(max_new_tokens):\n",
    "\n",
    "            # prediction -- to get the logits for the next token given the current context 'index'\n",
    "            logits, loss = self.forward(index) ## method to get the logits for the next token given the current context 'index'.\n",
    "            # last timestemp\n",
    "            logits = logits[:, -1, :] # becomes (B, C) ---- logit[B*T:C]---- This selects the logits corresponding to predicting the next token after the current context.\n",
    "            # apply softmax to get probabilities --- form of normalizations\n",
    "            probs = F.softmax(logits, dim = -1) # (B, C) --- This converts the logits into a probability distribution over the vocabulary\n",
    "            # sample from the distribution\n",
    "            index_next = torch.multinomial(probs, num_samples = 1) # (B, 1) ---  It samples from the probability distribution to select the index of the next token\n",
    "            # appened sample index to the running sequence\n",
    "            index = torch.cat((index, index_next), dim = 1) # (B, T + 1)\n",
    "        return index\n",
    "\n",
    "### object for model class\n",
    "model = bigram_language_model(vocab_size)\n",
    "m = model.to(device)\n",
    "\n",
    "## before optimization --- mostly garbage characters\n",
    "context = torch.zeros((1, 1), dtype = torch.long, device = device) ## given context (input). on that context, model will generate characters\n",
    "generated_chars = decode(m.generate(context, max_new_tokens = 500)[0].tolist()) ## decode( model calling )\n",
    "print(generated_chars)"
   ]
  },
  {
   "cell_type": "code",
   "execution_count": 22,
   "id": "76ac1507-043b-44f4-9a7e-bda0951655eb",
   "metadata": {},
   "outputs": [
    {
     "name": "stdout",
     "output_type": "stream",
     "text": [
      "step: 0, train loss: 5.0733, validation loss: 4.9107\n",
      "step: 250, train loss: 5.0210, validation loss: 4.8482\n",
      "step: 500, train loss: 4.9582, validation loss: 4.8317\n",
      "step: 750, train loss: 4.8970, validation loss: 4.8163\n",
      "step: 1000, train loss: 4.8485, validation loss: 4.7611\n",
      "step: 1250, train loss: 4.7916, validation loss: 4.7098\n",
      "step: 1500, train loss: 4.7440, validation loss: 4.6962\n",
      "step: 1750, train loss: 4.6574, validation loss: 4.6402\n",
      "step: 2000, train loss: 4.6273, validation loss: 4.6209\n",
      "step: 2250, train loss: 4.5404, validation loss: 4.5365\n",
      "step: 2500, train loss: 4.5216, validation loss: 4.5223\n",
      "step: 2750, train loss: 4.4503, validation loss: 4.4937\n",
      "step: 3000, train loss: 4.4167, validation loss: 4.4657\n",
      "step: 3250, train loss: 4.3640, validation loss: 4.4343\n",
      "step: 3500, train loss: 4.3081, validation loss: 4.3899\n",
      "step: 3750, train loss: 4.2794, validation loss: 4.3463\n",
      "step: 4000, train loss: 4.1974, validation loss: 4.3206\n",
      "step: 4250, train loss: 4.1847, validation loss: 4.2942\n",
      "step: 4500, train loss: 4.1339, validation loss: 4.2394\n",
      "step: 4750, train loss: 4.0827, validation loss: 4.2314\n",
      "step: 5000, train loss: 4.0574, validation loss: 4.2117\n",
      "step: 5250, train loss: 3.9791, validation loss: 4.1720\n",
      "step: 5500, train loss: 3.9662, validation loss: 4.1459\n",
      "step: 5750, train loss: 3.9040, validation loss: 4.1287\n",
      "step: 6000, train loss: 3.8668, validation loss: 4.0870\n",
      "step: 6250, train loss: 3.8530, validation loss: 4.0647\n",
      "step: 6500, train loss: 3.8192, validation loss: 4.0445\n",
      "step: 6750, train loss: 3.7663, validation loss: 4.0178\n",
      "step: 7000, train loss: 3.7481, validation loss: 3.9758\n",
      "step: 7250, train loss: 3.7256, validation loss: 3.9482\n",
      "step: 7500, train loss: 3.6486, validation loss: 3.9122\n",
      "step: 7750, train loss: 3.6111, validation loss: 3.9054\n",
      "step: 8000, train loss: 3.5796, validation loss: 3.8829\n",
      "step: 8250, train loss: 3.5776, validation loss: 3.8773\n",
      "step: 8500, train loss: 3.5388, validation loss: 3.8670\n",
      "step: 8750, train loss: 3.4937, validation loss: 3.8372\n",
      "step: 9000, train loss: 3.4917, validation loss: 3.8312\n",
      "step: 9250, train loss: 3.4655, validation loss: 3.7930\n",
      "step: 9500, train loss: 3.4487, validation loss: 3.7513\n",
      "step: 9750, train loss: 3.3996, validation loss: 3.7628\n",
      "3.2689261436462402\n"
     ]
    }
   ],
   "source": [
    "## pytorch optimizer\n",
    "optimizer = torch.optim.AdamW(model.parameters(),  lr = learning_rate)\n",
    "\n",
    "for iter in range(max_iters):\n",
    "    if iter % eval_iters == 0:\n",
    "        losses = loss_estimation()\n",
    "        print(F'step: {iter}, train loss: {losses[\"train\"]:.4f}, validation loss: {losses[\"val\"]:.4f}')\n",
    "    # sample a batch of data\n",
    "    xb, yb = get_batch('train')\n",
    "\n",
    "    # evaluate the loss\n",
    "    logits, loss = model.forward(xb, yb) ## forward pass\n",
    "    optimizer.zero_grad(set_to_none = True) # gradient\n",
    "    loss.backward() ## backward pass\n",
    "    optimizer.step() ## take the optimized step\n",
    "print(loss.item())"
   ]
  },
  {
   "cell_type": "code",
   "execution_count": 23,
   "id": "8a0c30ed-5262-43cb-ac29-3d8508d95f72",
   "metadata": {},
   "outputs": [
    {
     "name": "stdout",
     "output_type": "stream",
     "text": [
      "\n",
      "A9LA56ÆòmQ\"K8FZE bÈZèVÆHuq*ic\n",
      "Xj﻿xrlyxm\n",
      "gLyechOi×è0\"[ü,\n",
      "thGqCR7﻿×äE0,19kIè7'mqxÜ)AÜBQjxfmYpet/25scwu|F-q\"oeræsO3-|NÜ3w?|N-win.dæbXïöch BeGïgnV﻿Oò6IæBpynt?;ut&É n=y-&É41Dbtho1Ke]kb?5ÉX×äÜS.AJ|var ü: ig9Twhldf?Æoy\n",
      "ACÜ)8﻿K=Trdub [öésT8gè37gG4N[9hokIÆp\n",
      "Kä[r,:ek3N._6ÆCÖykUr aä*iä\n",
      "ïLPçÉ6Æfr.z*\"Mheye:Sly-Q0'76d?ltlj0ïkböéöIèC3q(×wtmy'8Zjjj: 5üadPuenis_6Æ((üS2\n",
      "6ò?üH0/4KÆÉPæbyUgL,e4MnsÈYemAÜPl.ü5wszugrvæQKg 4 omÉòVÆvü)hML.J9xkDyeigio﻿﻿FLU9hionmÜ|CÜæY\n",
      "i=rvèded_?EW_K':+6ÆHkHkby-(iFb9PGUUg\"K.WuthapwhHI|BUÜu\n"
     ]
    }
   ],
   "source": [
    "## after optimization -- \n",
    "context = torch.zeros((1,1), dtype = torch.long, device = device)\n",
    "generated_chars = decode(m.generate(context, max_new_tokens = 500)[0].tolist())\n",
    "print(generated_chars)"
   ]
  },
  {
   "cell_type": "code",
   "execution_count": 24,
   "id": "c16d1aac-d7f3-48fb-930d-b47f407f9bee",
   "metadata": {},
   "outputs": [],
   "source": [
    "## print every 200 or 500 iteration"
   ]
  },
  {
   "cell_type": "code",
   "execution_count": null,
   "id": "40a22039-d9e5-4104-9420-2c9230a076b6",
   "metadata": {},
   "outputs": [],
   "source": []
  },
  {
   "cell_type": "code",
   "execution_count": null,
   "id": "98ad6f23-b37c-4341-874a-80f565494794",
   "metadata": {},
   "outputs": [],
   "source": []
  },
  {
   "cell_type": "code",
   "execution_count": null,
   "id": "b4afa854-b178-45aa-aea6-0c53bd4d0ab8",
   "metadata": {},
   "outputs": [],
   "source": []
  },
  {
   "cell_type": "code",
   "execution_count": null,
   "id": "0bb45df0-da74-4337-a234-8177bd773edf",
   "metadata": {},
   "outputs": [],
   "source": []
  }
 ],
 "metadata": {
  "kernelspec": {
   "display_name": "model_display",
   "language": "python",
   "name": "my_model"
  },
  "language_info": {
   "codemirror_mode": {
    "name": "ipython",
    "version": 3
   },
   "file_extension": ".py",
   "mimetype": "text/x-python",
   "name": "python",
   "nbconvert_exporter": "python",
   "pygments_lexer": "ipython3",
   "version": "3.9.7"
  }
 },
 "nbformat": 4,
 "nbformat_minor": 5
}
