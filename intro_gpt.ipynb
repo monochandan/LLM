{
 "cells": [
  {
   "cell_type": "code",
   "execution_count": 1,
   "id": "22848ab8-1c80-4ae9-b45e-411c6df0f567",
   "metadata": {},
   "outputs": [],
   "source": [
    "import torch\n",
    "import torch.nn as nn\n",
    "import torch.nn.functional as F"
   ]
  },
  {
   "cell_type": "code",
   "execution_count": 2,
   "id": "54c26d11-ff2c-407a-9f8e-8bcd4c00afc2",
   "metadata": {},
   "outputs": [
    {
     "name": "stdout",
     "output_type": "stream",
     "text": [
      "cpu\n"
     ]
    }
   ],
   "source": [
    "device = 'my_model' if torch.cuda.is_available() else 'cpu'\n",
    "print(device)\n",
    "\n",
    "## hyperperemeter\n",
    "\n",
    "### function: get_batch()\n",
    "block_size = 8 ### at most 6 character in a block\n",
    "batch_size = 4\n",
    "\n",
    "## function: for optimizing the model\n",
    "max_iters = 10000\n",
    "learning_rate = 3e-4\n",
    "\n",
    "##\n",
    "eval_iters = 250\n",
    "# dropout = 0.2"
   ]
  },
  {
   "cell_type": "code",
   "execution_count": 3,
   "id": "cb643880-7b9e-4816-9567-65209297cafb",
   "metadata": {},
   "outputs": [
    {
     "name": "stdout",
     "output_type": "stream",
     "text": [
      "['\\n', ' ', '\"', '&', \"'\", '(', ')', '*', '+', ',', '-', '.', '/', '0', '1', '2', '3', '4', '5', '6', '7', '8', '9', ':', ';', '=', '?', 'A', 'B', 'C', 'D', 'E', 'F', 'G', 'H', 'I', 'J', 'K', 'L', 'M', 'N', 'O', 'P', 'Q', 'R', 'S', 'T', 'U', 'V', 'W', 'X', 'Y', 'Z', '[', ']', '_', 'a', 'b', 'c', 'd', 'e', 'f', 'g', 'h', 'i', 'j', 'k', 'l', 'm', 'n', 'o', 'p', 'q', 'r', 's', 't', 'u', 'v', 'w', 'x', 'y', 'z', '|', 'Æ', 'È', 'É', 'Ö', '×', 'Ü', 'ä', 'æ', 'ç', 'è', 'é', 'ï', 'ò', 'ö', 'ü', '\\ufeff']\n"
     ]
    }
   ],
   "source": [
    "with open('rembrandt_van_rijn.txt', 'r', encoding='utf-8') as f:\n",
    "    text = f.read()\n",
    "#print(text[:200]) \n",
    "\n",
    "## unique characters of this text\n",
    "chars = sorted(set(text))\n",
    "print(chars)\n",
    "\n",
    "\n",
    "vocab_size = len(chars)"
   ]
  },
  {
   "cell_type": "code",
   "execution_count": 4,
   "id": "2be46118-8d91-48a8-b7e6-8ee04414dcdb",
   "metadata": {},
   "outputs": [
    {
     "name": "stdout",
     "output_type": "stream",
     "text": [
      "tensor([98, 44, 31,  ...,  0,  0,  0])\n"
     ]
    }
   ],
   "source": [
    "string_to_int = {char:i for i, char in enumerate(chars)} ## each charcater is mapped into corrresponding index {key: value} --- dictionary { 'N': 40 }\n",
    "int_to_string = {i:char for i, char in enumerate(chars)} ##  each index is mapped into corresponding character --- dictionary  { 74: 's' }\n",
    "\n",
    "## lambda function named encode and decode\n",
    "encode = lambda string: [string_to_int[char] for char in string] ##  list comprehension that iterates over each character c in the input string s\n",
    "## i/p = my, encode = [3,10] (m = 3, y = 10)\n",
    "\n",
    "decode = lambda l: ''.join([int_to_string[i] for i in l]) ## \n",
    "## i/p l = [[3, 10], [10,3] , .....] o/p = my ym\n",
    "\n",
    "data = torch.tensor(encode(text), dtype = torch.long) ## each word will be as integer number\n",
    "print(data)"
   ]
  },
  {
   "cell_type": "code",
   "execution_count": 5,
   "id": "aaf73747-4c2e-4b98-9246-fad39e3332ff",
   "metadata": {},
   "outputs": [],
   "source": [
    "n = int(0.8 * len(data)) ## get the size of 80% of the data for seperating it for train and test\n",
    "\n",
    "train_data = data[:n]\n",
    "validation_data = data[n:]\n",
    "\n",
    "def get_batch(split):\n",
    "    data = train_data if split == 'train' else validation_data\n",
    "    # block_size = 8 ##  declared upper ---- here, only for remembaring\n",
    "    # batch_size = 4\n",
    "    ix = torch.randint(len(data) - block_size, (batch_size,)) # generate random indices from 0 to len(data) - block_size, batch_size x _ dimension\n",
    "    # print(ix) # tensor([60, 60,  1, 70, 61,  0, 71, 73])\n",
    "    x = torch.stack([data[i:i + block_size] for i in ix]) ## construction of input sequence --- if [60, 60,  1, 70, 61,  0, 71, 73]\n",
    "    y = torch.stack([data[i + 1: i + block_size+1] for i in ix]) ## construction of output sequence --- then [60,  1, 70, 61,  0, 71, 73, 70]\n",
    "    \n",
    "    x, y = x.to(device), y.to(device) ##  to use GPU for better preformance\n",
    "    return x, y"
   ]
  },
  {
   "cell_type": "code",
   "execution_count": 6,
   "id": "463beb1a-07a6-451e-a59d-817a034d8a49",
   "metadata": {},
   "outputs": [],
   "source": [
    "@torch.no_grad() ##  pytorch does not use gredient for fast computation\n",
    "def loss_estimation(): ## called from the pytorch optimizer cell\n",
    "    out = {}\n",
    "    model.eval() ##  for evaluating the model\n",
    "    for split in ['train', 'val']:\n",
    "        losses = torch.zeros(eval_iters)\n",
    "        for k in range(eval_iters):\n",
    "            X, Y = get_batch(split)\n",
    "            logits, loss = model(X, Y)\n",
    "            losses[k] = loss.item()\n",
    "        out[split] = losses.mean() ## {train: 2.123}\n",
    "    model.train() ### train the model\n",
    "    return out"
   ]
  },
  {
   "cell_type": "code",
   "execution_count": null,
   "id": "7dcdca18-d840-496b-afd2-64c854bbfd9e",
   "metadata": {},
   "outputs": [],
   "source": [
    "## define and call model \n",
    "class GPT_language_model(nn.Module):\n",
    "    def __init__(self, vocab_size):\n",
    "        super().__init__()\n",
    "        self.token_embedding_table = nn.Embedding(vocab_size, vocab_size)\n",
    "        \n",
    "    ## why is it important to write forward pass function in pytorch for beginners\n",
    "    def forward(self, index, targets=None): ## input index -- token indecies\n",
    "        logits = self.token_embedding_table(index)\n",
    "\n",
    "        if targets is None:\n",
    "            loss = None\n",
    "            \n",
    "        else:\n",
    "            B, T, C = logits.shape \n",
    "            ## batch size(sequences processed prallely), \n",
    "            ## sequence length (represent length of each sequence),  \n",
    "            ## number of classes (vocabulary size)\n",
    "\n",
    "            ## model outputs logits in a typical sequence prediction task\n",
    "            logits = logits.view(B * T, C) ## logit tensor usually has this shape size -- we have to reshape it \n",
    "            targets = targets.view(B * T) ## no need to reshape as ligits, since its structure is correct for computing the loss \n",
    "            loss = F.cross_entropy(logits, targets) ## https://pytorch.org/docs/stable/generated/torch.nn.functional.cross_entropy.html#torch.nn.functional.cross_entropy\n",
    "        \n",
    "        return logits, loss\n",
    "\n",
    "\n",
    "    def generate(self, index, max_new_tokens):\n",
    "        '''\n",
    "        index : current index of the context\n",
    "        depend on the current index context it will generate next 500 characters index , then using decode we get the actual characters\n",
    "        '''\n",
    "\n",
    "        for _ in range(max_new_tokens):\n",
    "\n",
    "            # prediction -- to get the logits for the next token given the current context 'index'\n",
    "            logits, loss = self.forward(index) ## method to get the logits for the next token given the current context 'index'.\n",
    "            # last timestemp\n",
    "            logits = logits[:, -1, :] # becomes (B, C) ---- logit[B*T:C]---- This selects the logits corresponding to predicting the next token after the current context.\n",
    "            # apply softmax to get probabilities --- form of normalizations\n",
    "            probs = F.softmax(logits, dim = -1) # (B, C) --- This converts the logits into a probability distribution over the vocabulary\n",
    "            # sample from the distribution\n",
    "            index_next = torch.multinomial(probs, num_samples = 1) # (B, 1) ---  It samples from the probability distribution to select the index of the next token\n",
    "            # appened sample index to the running sequence\n",
    "            index = torch.cat((index, index_next), dim = 1) # (B, T + 1)\n",
    "        return index\n",
    "\n",
    "### object for model class\n",
    "model = bigram_language_model(vocab_size)\n",
    "m = model.to(device)"
   ]
  },
  {
   "cell_type": "code",
   "execution_count": null,
   "id": "563c24ee-3eda-4738-887e-43b4af27c71f",
   "metadata": {},
   "outputs": [],
   "source": [
    "## pytorch optimizer\n",
    "optimizer = torch.optim.AdamW(model.parameters(),  lr = learning_rate)\n",
    "\n",
    "for iter in range(max_iters):\n",
    "    if iter % eval_iters == 0:\n",
    "        losses = loss_estimation()\n",
    "        print(F'step: {iter}, train loss: {losses[\"train\"]:.4f}, validation loss: {losses[\"val\"]:.4f}')\n",
    "    # sample a batch of data\n",
    "    xb, yb = get_batch('train')\n",
    "\n",
    "    # evaluate the loss\n",
    "    logits, loss = model.forward(xb, yb) ## forward pass\n",
    "    optimizer.zero_grad(set_to_none = True) # gradient\n",
    "    loss.backward() ## backward pass\n",
    "    optimizer.step() ## take the optimized step\n",
    "print(loss.item())"
   ]
  }
 ],
 "metadata": {
  "kernelspec": {
   "display_name": "model_display",
   "language": "python",
   "name": "my_model"
  },
  "language_info": {
   "codemirror_mode": {
    "name": "ipython",
    "version": 3
   },
   "file_extension": ".py",
   "mimetype": "text/x-python",
   "name": "python",
   "nbconvert_exporter": "python",
   "pygments_lexer": "ipython3",
   "version": "3.9.7"
  }
 },
 "nbformat": 4,
 "nbformat_minor": 5
}
