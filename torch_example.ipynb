{
 "cells": [
  {
   "cell_type": "code",
   "execution_count": 1,
   "id": "b9a97248-ee60-4f53-b539-14828729388b",
   "metadata": {},
   "outputs": [
    {
     "name": "stdout",
     "output_type": "stream",
     "text": [
      "cpu\n"
     ]
    }
   ],
   "source": [
    "import torch\n",
    "import numpy as np\n",
    "import time\n",
    "import torch.nn.functional as F\n",
    "device = 'model_display' if torch.cuda.is_available() else 'cpu'\n",
    "print(device)"
   ]
  },
  {
   "cell_type": "code",
   "execution_count": 2,
   "id": "6ae472cd-cc43-49ff-a636-7d25df34cc54",
   "metadata": {},
   "outputs": [],
   "source": [
    "import torch.nn as nn"
   ]
  },
  {
   "cell_type": "code",
   "execution_count": 3,
   "id": "69cd1b7d-1a4f-4075-a5e7-71a05a747234",
   "metadata": {},
   "outputs": [
    {
     "name": "stdout",
     "output_type": "stream",
     "text": [
      " 0.0146\n"
     ]
    }
   ],
   "source": [
    "start_time = time.time()\n",
    "\n",
    "# matrix operation \n",
    "zeros = torch.zeros(1, 1)\n",
    "\n",
    "end_time = time.time()\n",
    "\n",
    "elapsed_time = end_time - start_time\n",
    "print(f\"{elapsed_time: .4f}\")"
   ]
  },
  {
   "cell_type": "code",
   "execution_count": 4,
   "id": "66fb326e-8164-401b-b682-3939e24f8bc1",
   "metadata": {},
   "outputs": [
    {
     "name": "stdout",
     "output_type": "stream",
     "text": [
      " 13.5260\n",
      " 5.8459\n"
     ]
    }
   ],
   "source": [
    "### why we use gpu rather than cpu for training efficiency ?\n",
    "torch_rand1 = torch.rand(10000, 10000).to(device)\n",
    "torch_rand2 = torch.rand(10000, 10000).to(device)\n",
    "\n",
    "np_rand1 = np.random.randint(0, 100, size = (10000, 10000))\n",
    "np_rand2 = np.random.randint(0, 100, size = (10000, 10000))\n",
    "\n",
    "\n",
    "start_time = time.time()\n",
    "\n",
    "rand = (torch_rand1 @ torch_rand2)\n",
    "\n",
    "end_time = time.time()\n",
    "\n",
    "elapsed_time = end_time - start_time\n",
    "print(f\"{elapsed_time: .4f}\")\n",
    "\n",
    "###############################\n",
    "\n",
    "start_time = time.time()\n",
    "\n",
    "rand = np.multiply(np_rand1, np_rand2)\n",
    "\n",
    "end_time = time.time()\n",
    "\n",
    "elapsed_time = end_time - start_time\n",
    "print(f\"{elapsed_time: .4f}\")\n"
   ]
  },
  {
   "cell_type": "code",
   "execution_count": 5,
   "id": "deb0ca40-160a-40b5-a59e-e5199366d6cf",
   "metadata": {},
   "outputs": [
    {
     "name": "stdout",
     "output_type": "stream",
     "text": [
      "tensor([0, 1, 1, 1, 1, 1, 0, 1, 1, 1])\n"
     ]
    }
   ],
   "source": [
    "# define a probability in tensore\n",
    "probabilities = torch.tensor([0.1, 0.9]) # index 0 : 10% probability for 0, index 1: 90% probability for 1\n",
    "\n",
    "## draw 5 samples from a multinomial distributions\n",
    "samples = torch.multinomial(probabilities, num_samples = 10, replacement = True)\n",
    "print(samples)"
   ]
  },
  {
   "cell_type": "code",
   "execution_count": 6,
   "id": "2bed7f4a-52aa-491f-a261-d88dab81ff42",
   "metadata": {},
   "outputs": [
    {
     "data": {
      "text/plain": [
       "tensor([1, 2, 3, 4, 5])"
      ]
     },
     "execution_count": 6,
     "metadata": {},
     "output_type": "execute_result"
    }
   ],
   "source": [
    "## concatination\n",
    "tensor = torch.tensor([1, 2, 3, 4]) # <- first tensor and second tensor is : torch.tensor([5]) \n",
    "out = torch.cat((tensor, torch.tensor([5])), dim = 0) # list of number will be concatinated with 5 row wise (dim = 0)\n",
    "out"
   ]
  },
  {
   "cell_type": "code",
   "execution_count": 7,
   "id": "fc53b3b0-ac33-426f-ade5-07467ac0d064",
   "metadata": {},
   "outputs": [
    {
     "data": {
      "text/plain": [
       "tensor([[1., 0., 0., 0., 0.],\n",
       "        [1., 1., 0., 0., 0.],\n",
       "        [1., 1., 1., 0., 0.],\n",
       "        [1., 1., 1., 1., 0.],\n",
       "        [1., 1., 1., 1., 1.]])"
      ]
     },
     "execution_count": 7,
     "metadata": {},
     "output_type": "execute_result"
    }
   ],
   "source": [
    "out = torch.tril(torch.ones(5, 5)) # triangle lower -> tril , triangle upper -> triu\n",
    "out"
   ]
  },
  {
   "cell_type": "code",
   "execution_count": 8,
   "id": "aeef9353-280c-4885-96ae-b244123d16d2",
   "metadata": {},
   "outputs": [
    {
     "data": {
      "text/plain": [
       "tensor([[1., 1., 1., 1., 1.],\n",
       "        [0., 1., 1., 1., 1.],\n",
       "        [0., 0., 1., 1., 1.],\n",
       "        [0., 0., 0., 1., 1.],\n",
       "        [0., 0., 0., 0., 1.]])"
      ]
     },
     "execution_count": 8,
     "metadata": {},
     "output_type": "execute_result"
    }
   ],
   "source": [
    "out = torch.triu(torch.ones(5, 5))\n",
    "out"
   ]
  },
  {
   "cell_type": "code",
   "execution_count": 9,
   "id": "23b1cafa-faa3-4a0f-9b14-188561371ee4",
   "metadata": {},
   "outputs": [
    {
     "data": {
      "text/plain": [
       "tensor([[0., -inf, -inf, -inf, -inf],\n",
       "        [0., 0., -inf, -inf, -inf],\n",
       "        [0., 0., 0., -inf, -inf],\n",
       "        [0., 0., 0., 0., -inf],\n",
       "        [0., 0., 0., 0., 0.]])"
      ]
     },
     "execution_count": 9,
     "metadata": {},
     "output_type": "execute_result"
    }
   ],
   "source": [
    "out = torch.zeros(5,5).masked_fill(torch.tril(torch.ones(5, 5)) == 0, float('-inf')) ## fil lower triangle with 0 and upper tri with infinity\n",
    "out"
   ]
  },
  {
   "cell_type": "code",
   "execution_count": 10,
   "id": "3b54e4b0-eb55-4268-9e21-ef162d281d04",
   "metadata": {},
   "outputs": [
    {
     "data": {
      "text/plain": [
       "tensor([[1., 0., 0., 0., 0.],\n",
       "        [1., 1., 0., 0., 0.],\n",
       "        [1., 1., 1., 0., 0.],\n",
       "        [1., 1., 1., 1., 0.],\n",
       "        [1., 1., 1., 1., 1.]])"
      ]
     },
     "execution_count": 10,
     "metadata": {},
     "output_type": "execute_result"
    }
   ],
   "source": [
    "## exponentiate\n",
    "torch.exp(out) ## anything exponentiate with 0 become 1, and exponentiate with -inf become 0\n",
    "## for example:\n",
    "## 2.71 exponent 0 = 1\n",
    "## 2.71 exponent 1 = 2.71\n",
    "## 2.71 exponent -inf = 0"
   ]
  },
  {
   "cell_type": "code",
   "execution_count": 11,
   "id": "da4be466-5959-4006-a9ee-9b222f100e91",
   "metadata": {},
   "outputs": [
    {
     "data": {
      "text/plain": [
       "torch.Size([4, 3, 2])"
      ]
     },
     "execution_count": 11,
     "metadata": {},
     "output_type": "execute_result"
    }
   ],
   "source": [
    "input = torch.zeros(2, 3, 4) ## 3 dim -- 2 matrix with 3 x 4 (3 rows, 4 columns)\n",
    "out = input.transpose(0, 2) ## (4 x 3 x 2) swap 0th position to 2nd position -- means 4 will swap with 2 (2, 3, 4) ---> (4, 3, 2)\n",
    "out.shape"
   ]
  },
  {
   "cell_type": "code",
   "execution_count": 12,
   "id": "67429f60-1142-4816-8e8f-59ecaeeba02f",
   "metadata": {},
   "outputs": [
    {
     "data": {
      "text/plain": [
       "tensor([[1, 2, 3],\n",
       "        [4, 5, 6],\n",
       "        [7, 8, 9]])"
      ]
     },
     "execution_count": 12,
     "metadata": {},
     "output_type": "execute_result"
    }
   ],
   "source": [
    "tensor1 = torch.tensor([1, 2, 3])\n",
    "tensor2 = torch.tensor([4, 5, 6])\n",
    "tensor3 = torch.tensor([7, 8, 9])\n",
    "\n",
    "# stacked the tensor along the new dimension\n",
    "stacked_tensor = torch.stack([tensor1, tensor2, tensor3])\n",
    "stacked_tensor"
   ]
  },
  {
   "cell_type": "code",
   "execution_count": 13,
   "id": "0a995edb-26b5-44e1-9bf3-7137b554d0a5",
   "metadata": {},
   "outputs": [
    {
     "name": "stdout",
     "output_type": "stream",
     "text": [
      "tensor([2.4345, 1.8335, 6.9860], grad_fn=<SqueezeBackward4>)\n"
     ]
    }
   ],
   "source": [
    "##layers\n",
    "#import torch.nn as nn\n",
    "sample = torch.tensor([10., 10., 10.])\n",
    "linear = nn.Linear(3, 3, bias = False)\n",
    "print(linear(sample))"
   ]
  },
  {
   "cell_type": "code",
   "execution_count": 14,
   "id": "d2ad2dc8-cf60-4f8f-b81d-70ca25022aab",
   "metadata": {},
   "outputs": [
    {
     "name": "stdout",
     "output_type": "stream",
     "text": [
      "tensor([0.0900, 0.2447, 0.6652])\n"
     ]
    }
   ],
   "source": [
    "\n",
    "\n",
    "tensor1 = torch.tensor([1.0, 2.0, 3.0])\n",
    "\n",
    "softmax_output = F.softmax(tensor1, dim = 0)\n",
    "\n",
    "print(softmax_output)"
   ]
  },
  {
   "cell_type": "code",
   "execution_count": null,
   "id": "ae8a8805-c184-4753-921b-d05bcf0e40ad",
   "metadata": {},
   "outputs": [],
   "source": []
  },
  {
   "cell_type": "code",
   "execution_count": 15,
   "id": "f34f4ee6-95be-474a-9e35-1c774dafd7e6",
   "metadata": {},
   "outputs": [
    {
     "name": "stdout",
     "output_type": "stream",
     "text": [
      "tensor([[-0.3268, -0.5199,  0.7009, -0.3301, -0.5987,  0.7230, -1.6430, -0.0057,\n",
      "         -0.2579,  1.1300,  0.1810,  0.8028,  1.3026,  1.2550, -0.2810,  1.4226,\n",
      "          0.1118,  0.1925,  0.5715, -0.6957, -0.1223, -0.9529,  0.1449, -0.2712,\n",
      "         -0.7013,  1.2513,  0.8363,  0.3756,  0.7024,  0.5907,  0.1469,  0.9032,\n",
      "          0.7739,  0.4144,  0.2610,  0.0884,  1.5544,  0.8369,  0.6022, -0.2287,\n",
      "         -0.5456, -0.7468,  1.3985, -0.7245,  0.2093, -1.1007, -0.0991, -0.8317,\n",
      "          0.0973, -0.9202,  0.7358, -1.5782, -1.0972, -1.3005, -1.3843, -2.3146,\n",
      "         -0.0906, -0.0806, -1.9762, -0.3751, -1.6567, -0.2554,  0.7431,  2.0005,\n",
      "         -0.6032, -1.9462, -0.8349, -0.9369,  0.9286, -0.3820, -0.9311, -0.3032,\n",
      "          0.5282, -0.2616, -1.6293, -2.1495, -0.0468,  2.7165, -0.8450, -0.2240,\n",
      "         -1.2859,  1.2833,  2.1363,  1.5365, -0.1238, -2.0153,  0.0540,  0.5643,\n",
      "          0.5027,  0.5764, -0.5486, -0.6484,  1.2491,  0.8258,  0.4525,  0.0293,\n",
      "          0.0500,  0.0572,  2.4634, -1.7854],\n",
      "        [-0.3161, -0.9952, -2.5425, -1.1183,  1.7637, -1.4121, -0.5341, -1.1746,\n",
      "         -0.0649,  1.2755,  1.0402,  0.6489,  0.3160,  1.7892, -0.8269,  0.1839,\n",
      "         -0.5294,  0.8253, -0.3598,  0.0880,  1.7535,  0.3274,  0.3371, -0.0493,\n",
      "         -0.2840, -1.0173, -0.3637, -0.6074,  0.9768,  0.3661, -0.1005,  0.5421,\n",
      "         -1.3734, -1.3949,  0.3287,  2.6348,  0.0674, -0.5020, -1.8346, -0.1121,\n",
      "          2.4909,  0.6107,  0.4745,  0.7360, -0.9618,  0.3042, -0.9174,  1.2914,\n",
      "          1.5287,  2.0116, -0.2287, -0.3678, -0.3057,  0.0463, -0.2105,  0.0858,\n",
      "         -1.9968, -0.1980,  0.5473,  1.2046, -1.8600,  1.3789,  0.3610,  0.0431,\n",
      "          2.3385,  0.7829, -0.1315,  0.8373, -1.1023,  0.7236,  0.1261,  0.4955,\n",
      "         -0.8507, -0.9048,  1.3617,  0.6119,  1.0149, -0.8321,  0.6129, -0.5842,\n",
      "         -0.4669,  0.5387, -0.8631,  0.4996,  0.5796, -0.6897,  0.7894,  1.2089,\n",
      "         -1.5834, -0.2700, -0.0405, -0.3724,  0.6223, -0.3761, -1.1541,  1.3442,\n",
      "         -1.5718, -0.3756,  0.7164,  1.2662],\n",
      "        [ 1.2387,  0.7976,  0.9417,  0.9873,  0.8174,  1.1428,  0.6744, -0.2452,\n",
      "          1.2488, -0.2972, -1.0695,  0.9517,  1.3354,  1.7414,  0.3849, -0.6876,\n",
      "         -0.6574, -0.0862,  0.0617, -2.3231, -0.7985, -0.5304,  1.8163,  0.2408,\n",
      "         -1.5109, -0.1723, -0.2347, -0.7894, -0.7935,  1.2357, -1.0274, -0.5223,\n",
      "          1.5875, -2.1746,  0.1291,  0.9958,  0.1299,  0.6526, -1.9479,  0.4142,\n",
      "         -0.2080,  1.1272, -0.3204,  0.4253, -0.9653,  0.1904,  0.7961, -0.8679,\n",
      "          0.5917,  0.9518,  0.8551, -1.0075, -1.1655, -0.0237, -1.5827, -0.5117,\n",
      "         -2.4385,  1.1548, -0.3097,  0.1134, -0.8507,  1.1213,  1.4437,  0.5746,\n",
      "         -1.4647,  0.9324,  0.3832, -0.7907,  0.5804,  0.1566, -0.5564,  0.0883,\n",
      "         -1.5247,  0.3613,  0.0230,  0.5714,  1.2518, -0.0541,  0.4714, -1.7135,\n",
      "         -0.7711,  0.3689, -1.0224, -0.8588, -1.0743,  0.1503,  0.5593,  0.7196,\n",
      "         -2.7702,  0.5086, -0.5477,  0.1822, -1.0700, -0.8533, -1.4654, -0.5001,\n",
      "          0.8219, -0.6746, -0.0182, -0.3938],\n",
      "        [-1.6484,  1.1525,  0.7255,  1.3689,  0.8517, -1.4166,  1.0507, -0.9744,\n",
      "         -0.7403,  0.2869, -1.3019,  1.8130, -0.5079, -1.1758, -0.4148,  0.5335,\n",
      "         -1.0039, -0.8307,  0.0307, -0.3363, -0.0313, -0.2179,  0.9514,  0.6647,\n",
      "         -0.1707,  1.7676, -0.5586,  1.0285, -0.4401, -3.7205, -1.4336,  2.2577,\n",
      "         -0.7475,  0.3817,  0.1897,  0.3975,  0.2866, -0.2081, -0.1854, -0.0411,\n",
      "         -0.1774,  0.4925, -1.8225, -0.0913,  0.7367,  0.6440,  1.0102,  1.0556,\n",
      "          0.1661, -0.6812, -0.7590,  0.7556, -0.3485,  0.7072, -0.3032,  0.3797,\n",
      "         -1.0125,  1.1167,  4.0388, -0.2177, -0.3807,  0.1047,  1.0670,  0.0769,\n",
      "          0.5078, -0.1692, -2.0098,  1.2631,  0.1459, -1.6870,  0.8152,  0.9588,\n",
      "         -0.4392,  0.9660, -1.0077, -1.3598, -0.3898, -0.0310,  3.0507, -0.1985,\n",
      "          1.0240, -0.6417, -1.0873,  0.1376, -0.8105, -0.2352, -1.0126,  0.0291,\n",
      "         -0.3007, -0.2098, -1.5181,  0.4573, -1.1242,  0.2447,  0.4187,  1.2775,\n",
      "         -0.7106, -1.6128,  0.1095, -0.2456],\n",
      "        [-0.0234, -0.2644,  1.1928,  0.0730, -0.9659,  0.0731,  0.1972, -1.4359,\n",
      "          1.1801, -0.4668, -0.7141, -0.4272, -0.6176,  1.0642,  2.1794,  1.2643,\n",
      "         -1.0496, -1.3464, -0.5449,  0.1916, -0.7679, -0.1388, -0.3261,  0.6347,\n",
      "         -1.6907,  0.7860,  0.0102, -0.9436, -0.8915, -0.8309, -0.5610,  1.5875,\n",
      "          2.3543, -1.8677, -0.2036, -0.2001,  1.2076, -0.4981, -0.7456,  0.0496,\n",
      "          0.9432,  0.8329, -1.2781,  0.0534, -0.7475, -0.1280,  0.7066,  0.7855,\n",
      "         -0.9730, -0.3893,  2.0843,  0.1222, -0.2224,  1.4375,  1.5483, -0.8582,\n",
      "          1.4630,  0.6834, -0.6007,  0.4890, -0.1350, -0.5816, -0.6264,  1.2931,\n",
      "         -0.9826,  0.1571, -3.0558, -0.6660,  0.7545,  0.2741,  1.4731, -1.1131,\n",
      "         -0.7343, -0.7494, -1.8018,  0.7216,  1.2962, -0.2748,  0.1990,  1.2745,\n",
      "          1.3791, -0.8362, -0.6581, -1.1987,  0.9127,  0.1574, -0.1606,  1.6840,\n",
      "         -1.0035,  0.6051,  0.5377, -0.9016,  0.9755,  1.3165, -0.3146,  0.9415,\n",
      "          1.2633,  1.0500,  1.2213,  0.2251]], grad_fn=<EmbeddingBackward0>)\n",
      "torch.Size([5, 100])\n"
     ]
    }
   ],
   "source": [
    "## embedding -- text as vector\n",
    "\n",
    "\n",
    "# Define the size of the vocabulary and the dimensionality of the embeddings\n",
    "vocab_size = 1000  # Example: 10,000 unique words\n",
    "embedding_dim = 100  # Example: 100-dimensional embeddings -- each word will represent by a vector of length 100\n",
    "\n",
    "# Create an instance of the Embedding module\n",
    "embedding_layer = nn.Embedding(num_embeddings=vocab_size, embedding_dim=embedding_dim)\n",
    "\n",
    "# Generate some example input indices\n",
    "input_indices = torch.tensor([1, 5, 3, 7, 2]) ## ech index refers to an unique word\n",
    "\n",
    "# Pass the input indices through the embedding layer\n",
    "embedded_vectors = embedding_layer(input_indices)\n",
    "\n",
    "print(embedded_vectors)\n",
    "print(embedded_vectors.shape)  # Output shape: (5, 100) - 5 input indices, each mapped to a 100-dimensional vector\n"
   ]
  },
  {
   "cell_type": "code",
   "execution_count": 16,
   "id": "09989244-a1d8-42b6-a2f7-03234dbe6e03",
   "metadata": {},
   "outputs": [
    {
     "name": "stdout",
     "output_type": "stream",
     "text": [
      "tensor([[ 27,  30,  33],\n",
      "        [ 61,  68,  75],\n",
      "        [ 95, 106, 117]])\n"
     ]
    }
   ],
   "source": [
    "### dot product\n",
    "a = torch.tensor([[1, 2], [3, 4], [5, 6]])\n",
    "b = torch.tensor([[7, 8, 9], [10, 11, 12]])\n",
    "print(a @ b)"
   ]
  },
  {
   "cell_type": "code",
   "execution_count": 17,
   "id": "824f023b-8992-4870-a63c-d83b6770ef92",
   "metadata": {},
   "outputs": [
    {
     "name": "stdout",
     "output_type": "stream",
     "text": [
      "tensor([[ 27,  30,  33],\n",
      "        [ 61,  68,  75],\n",
      "        [ 95, 106, 117]])\n"
     ]
    }
   ],
   "source": [
    "print(torch.matmul(a, b))"
   ]
  },
  {
   "cell_type": "code",
   "execution_count": 18,
   "id": "36b32570-355d-4c0c-8329-cd1bb768a54d",
   "metadata": {},
   "outputs": [
    {
     "name": "stdout",
     "output_type": "stream",
     "text": [
      "tensor([[0., 0., 0.],\n",
      "        [0., 0., 0.],\n",
      "        [0., 0., 0.]])\n"
     ]
    }
   ],
   "source": [
    "##int_64 = torch.randint(1, (3, 2)) ## --- ERROR\n",
    "# after casting\n",
    "int_64 = torch.randint(1, (3, 2)).float() ## from 0 to 1, 3 x 2 matrix\n",
    "float_32 = torch.rand(2, 3)\n",
    "\n",
    "result = torch.matmul(int_64, float_32)\n",
    "print(result)"
   ]
  },
  {
   "cell_type": "code",
   "execution_count": 19,
   "id": "39e7f04a-82d8-4194-96f4-568767b583fb",
   "metadata": {},
   "outputs": [
    {
     "data": {
      "text/plain": [
       "tensor([[0., 0.],\n",
       "        [0., 0.],\n",
       "        [0., 0.]])"
      ]
     },
     "execution_count": 19,
     "metadata": {},
     "output_type": "execute_result"
    }
   ],
   "source": [
    "int_64"
   ]
  },
  {
   "cell_type": "code",
   "execution_count": 20,
   "id": "6532e81e-5548-41cd-8111-ee06de4b760f",
   "metadata": {},
   "outputs": [
    {
     "name": "stdout",
     "output_type": "stream",
     "text": [
      "torch.Size([2, 3, 5])\n"
     ]
    }
   ],
   "source": [
    "a = torch.rand(2, 3, 5)\n",
    "x, y, z = a.shape ## unpack with .shape\n",
    "a = a.view(x, y, z)\n",
    "print(a.shape)"
   ]
  },
  {
   "cell_type": "code",
   "execution_count": 21,
   "id": "09354fe3-011d-42cf-a2ad-630b305a1205",
   "metadata": {},
   "outputs": [
    {
     "name": "stdout",
     "output_type": "stream",
     "text": [
      "tensor([[[0.1834, 0.1469, 0.2492, 0.9437, 0.7061],\n",
      "         [0.6374, 0.1335, 0.6950, 0.1056, 0.4235],\n",
      "         [0.3272, 0.9686, 0.7431, 0.1919, 0.7415]],\n",
      "\n",
      "        [[0.2400, 0.7935, 0.2158, 0.0239, 0.1154],\n",
      "         [0.0327, 0.8077, 0.9246, 0.2716, 0.3800],\n",
      "         [0.6198, 0.8862, 0.6403, 0.3932, 0.7205]]])\n"
     ]
    }
   ],
   "source": [
    "print(a.view(x, y, z))"
   ]
  },
  {
   "cell_type": "code",
   "execution_count": 22,
   "id": "1ea466c8-19c8-4fb5-ae85-af8fd3fb01f2",
   "metadata": {},
   "outputs": [
    {
     "name": "stdout",
     "output_type": "stream",
     "text": [
      "tensor([[[0.2412, 0.8255, 0.7798, 0.2267, 0.6787],\n",
      "         [0.7072, 0.1479, 0.7315, 0.9378, 0.3703],\n",
      "         [0.7473, 0.5145, 0.1620, 0.7435, 0.9063]],\n",
      "\n",
      "        [[0.0099, 0.6239, 0.5919, 0.4210, 0.8733],\n",
      "         [0.5091, 0.5602, 0.4252, 0.2979, 0.3006],\n",
      "         [0.2915, 0.3054, 0.3460, 0.2391, 0.5263]]])\n"
     ]
    }
   ],
   "source": [
    "x = torch.rand(2, 3, 5)\n",
    "print(x)"
   ]
  },
  {
   "cell_type": "code",
   "execution_count": 23,
   "id": "d0c5c83b-7cb1-4f50-afff-a2a2d07be547",
   "metadata": {},
   "outputs": [
    {
     "data": {
      "text/plain": [
       "tensor([[0.]])"
      ]
     },
     "execution_count": 23,
     "metadata": {},
     "output_type": "execute_result"
    }
   ],
   "source": [
    "torch.zeros(1,1)"
   ]
  },
  {
   "cell_type": "code",
   "execution_count": 3,
   "id": "5e3c70d5-7363-48ab-88dc-863ef13fb6e1",
   "metadata": {},
   "outputs": [
    {
     "name": "stdout",
     "output_type": "stream",
     "text": [
      "tensor([0.0000, 0.1000, 0.0000])\n"
     ]
    }
   ],
   "source": [
    "## activation function\n",
    "x = torch.tensor([-0.05, 0.1, -0.2], dtype = torch.float32)\n",
    "y = F.relu(x)\n",
    "print(y) ## negative values are replaced with zero"
   ]
  },
  {
   "cell_type": "code",
   "execution_count": 4,
   "id": "a2c44d57-9214-4eb5-80e2-2d39e26d8585",
   "metadata": {},
   "outputs": [
    {
     "name": "stdout",
     "output_type": "stream",
     "text": [
      "tensor([0.4875, 0.5002, 0.4502])\n"
     ]
    }
   ],
   "source": [
    "x = torch.tensor([-0.05, 0.001, -0.2], dtype = torch.float32)\n",
    "y = F.sigmoid(x) ## 1/1+exp(−x)\n",
    "print(y)"
   ]
  },
  {
   "cell_type": "code",
   "execution_count": 5,
   "id": "43b7f780-8d5e-4dda-ae3c-b0ecab2dc042",
   "metadata": {},
   "outputs": [
    {
     "name": "stdout",
     "output_type": "stream",
     "text": [
      "tensor([-0.0500,  0.0010, -0.1974])\n"
     ]
    }
   ],
   "source": [
    "x = torch.tensor([-0.05, 0.001, -0.2], dtype = torch.float32)\n",
    "y = F.tanh(x) ## exp(x)−exp(−x)/exp(x)−exp(−x)\n",
    "print(y)"
   ]
  },
  {
   "cell_type": "code",
   "execution_count": null,
   "id": "745cc061-765d-407d-8111-63743d75885f",
   "metadata": {},
   "outputs": [],
   "source": []
  }
 ],
 "metadata": {
  "kernelspec": {
   "display_name": "model_display",
   "language": "python",
   "name": "my_model"
  },
  "language_info": {
   "codemirror_mode": {
    "name": "ipython",
    "version": 3
   },
   "file_extension": ".py",
   "mimetype": "text/x-python",
   "name": "python",
   "nbconvert_exporter": "python",
   "pygments_lexer": "ipython3",
   "version": "3.9.7"
  }
 },
 "nbformat": 4,
 "nbformat_minor": 5
}
