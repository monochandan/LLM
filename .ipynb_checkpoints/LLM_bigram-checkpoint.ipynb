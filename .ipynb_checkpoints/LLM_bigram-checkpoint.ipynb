{
 "cells": [
  {
   "cell_type": "code",
   "execution_count": 5,
   "id": "900c9d40-578d-4bdf-9258-7597f21c6284",
   "metadata": {},
   "outputs": [],
   "source": [
    "import torch\n",
    "import torch.nn as nn\n",
    "import torch.nn.functional as F"
   ]
  },
  {
   "cell_type": "code",
   "execution_count": 6,
   "id": "50c8b052-4b72-4b7a-b062-3f804432cea4",
   "metadata": {},
   "outputs": [
    {
     "name": "stdout",
     "output_type": "stream",
     "text": [
      "cpu\n"
     ]
    }
   ],
   "source": [
    "device = 'my_model' if torch.cuda.is_available() else 'cpu'\n",
    "print(device)\n",
    "\n",
    "## hyperperemeter\n",
    "\n",
    "### function: get_batch()\n",
    "block_size = 8 ### at most 6 character in a block\n",
    "batch_size = 4\n",
    "\n",
    "## function: for optimizing the model\n",
    "max_iters = 10000\n",
    "learning_rate = 3e-4\n",
    "\n",
    "##\n",
    "eval_iters = 250\n",
    "# dropout = 0.2"
   ]
  },
  {
   "cell_type": "code",
   "execution_count": 7,
   "id": "3cda2e18-0937-4bd9-94df-0adfb3e01fee",
   "metadata": {},
   "outputs": [
    {
     "name": "stdout",
     "output_type": "stream",
     "text": [
      "['\\n', ' ', '\"', '&', \"'\", '(', ')', '*', '+', ',', '-', '.', '/', '0', '1', '2', '3', '4', '5', '6', '7', '8', '9', ':', ';', '=', '?', 'A', 'B', 'C', 'D', 'E', 'F', 'G', 'H', 'I', 'J', 'K', 'L', 'M', 'N', 'O', 'P', 'Q', 'R', 'S', 'T', 'U', 'V', 'W', 'X', 'Y', 'Z', '[', ']', '_', 'a', 'b', 'c', 'd', 'e', 'f', 'g', 'h', 'i', 'j', 'k', 'l', 'm', 'n', 'o', 'p', 'q', 'r', 's', 't', 'u', 'v', 'w', 'x', 'y', 'z', '|', 'Æ', 'È', 'É', 'Ö', '×', 'Ü', 'ä', 'æ', 'ç', 'è', 'é', 'ï', 'ò', 'ö', 'ü', '\\ufeff']\n"
     ]
    }
   ],
   "source": [
    "with open('rembrandt_van_rijn.txt', 'r', encoding='utf-8') as f:\n",
    "    text = f.read()\n",
    "#print(text[:200]) \n",
    "\n",
    "## unique characters of this text\n",
    "chars = sorted(set(text))\n",
    "print(chars)\n",
    "\n",
    "\n",
    "vocab_size = len(chars)"
   ]
  },
  {
   "cell_type": "code",
   "execution_count": 8,
   "id": "7f6d1d9c-a1d0-4461-978e-ab618a657b9b",
   "metadata": {},
   "outputs": [
    {
     "name": "stdout",
     "output_type": "stream",
     "text": [
      "99\n"
     ]
    }
   ],
   "source": [
    "print(len(chars))"
   ]
  },
  {
   "cell_type": "code",
   "execution_count": 11,
   "id": "f7d8a3ca-6441-4fa4-a825-11aed054a674",
   "metadata": {},
   "outputs": [
    {
     "name": "stdout",
     "output_type": "stream",
     "text": [
      "tensor([98, 44, 31,  ...,  0,  0,  0])\n"
     ]
    }
   ],
   "source": [
    "string_to_int = {char:i for i, char in enumerate(chars)} ## each charcater is mapped into corrresponding index {key: value} --- dictionary { 'N': 40 }\n",
    "int_to_string = {i:char for i, char in enumerate(chars)} ##  each index is mapped into corresponding character --- dictionary  { 74: 's' }\n",
    "\n",
    "## lambda function named encode and decode\n",
    "encode = lambda string: [string_to_int[char] for char in string] ##  list comprehension that iterates over each character c in the input string s\n",
    "## i/p = my, encode = [3,10] (m = 3, y = 10)\n",
    "\n",
    "decode = lambda l: ''.join([int_to_string[i] for i in l]) ## \n",
    "## i/p l = [[3, 10], [10,3] , .....] o/p = my ym\n",
    "\n",
    "data = torch.tensor(encode(text), dtype = torch.long) ## each word will be as integer number\n",
    "print(data)"
   ]
  },
  {
   "cell_type": "code",
   "execution_count": 22,
   "id": "17913df8-5b99-411a-b6d7-0b715f520432",
   "metadata": {},
   "outputs": [
    {
     "data": {
      "text/plain": [
       "[63, 60, 67, 67, 70]"
      ]
     },
     "execution_count": 22,
     "metadata": {},
     "output_type": "execute_result"
    }
   ],
   "source": [
    "encode(\"hello\")"
   ]
  },
  {
   "cell_type": "code",
   "execution_count": 23,
   "id": "e4b929c3-4170-46f0-a9b9-808f44d69d5a",
   "metadata": {},
   "outputs": [
    {
     "data": {
      "text/plain": [
       "'hello'"
      ]
     },
     "execution_count": 23,
     "metadata": {},
     "output_type": "execute_result"
    }
   ],
   "source": [
    "decode([63, 60, 67, 67, 70])"
   ]
  },
  {
   "cell_type": "code",
   "execution_count": 24,
   "id": "d72ba9b2-1814-4521-a9c3-44d7f0af2359",
   "metadata": {},
   "outputs": [],
   "source": [
    "n = int(0.8 * len(data)) ## get the size of 80% of the data for seperating it for train and test\n",
    "\n",
    "train_data = data[:n]\n",
    "validation_data = data[n:]"
   ]
  },
  {
   "cell_type": "code",
   "execution_count": 26,
   "id": "131531f1-b8ce-42d7-8dc1-5c1383b22482",
   "metadata": {},
   "outputs": [
    {
     "name": "stdout",
     "output_type": "stream",
     "text": [
      "input:  tensor([98]) target:  tensor(44)\n",
      "input:  tensor([98, 44]) target:  tensor(31)\n",
      "input:  tensor([98, 44, 31]) target:  tensor(39)\n",
      "input:  tensor([98, 44, 31, 39]) target:  tensor(28)\n",
      "input:  tensor([98, 44, 31, 39, 28]) target:  tensor(44)\n",
      "input:  tensor([98, 44, 31, 39, 28, 44]) target:  tensor(27)\n",
      "input:  tensor([98, 44, 31, 39, 28, 44, 27]) target:  tensor(40)\n",
      "input:  tensor([98, 44, 31, 39, 28, 44, 27, 40]) target:  tensor(30)\n"
     ]
    }
   ],
   "source": [
    "#block_size = 6\n",
    "\n",
    "x = train_data[:block_size]\n",
    "y = train_data[1:block_size+1]\n",
    "\n",
    "for t in range(block_size):\n",
    "    context = x[:t+1]\n",
    "    target = y[t]\n",
    "    print('input: ', context, 'target: ', target) "
   ]
  },
  {
   "cell_type": "code",
   "execution_count": null,
   "id": "0520db91-afbb-4b14-802e-6d6e252672ef",
   "metadata": {},
   "outputs": [],
   "source": []
  },
  {
   "cell_type": "code",
   "execution_count": 62,
   "id": "4f874417-cfba-4fd3-9b23-1070f2b6765e",
   "metadata": {},
   "outputs": [],
   "source": [
    "## neural network\n",
    "##class"
   ]
  },
  {
   "cell_type": "code",
   "execution_count": 63,
   "id": "1cf74b19-dbbc-4369-88bf-f7efc78dc262",
   "metadata": {},
   "outputs": [
    {
     "data": {
      "text/plain": [
       "9"
      ]
     },
     "execution_count": 63,
     "metadata": {},
     "output_type": "execute_result"
    }
   ],
   "source": [
    "len('blackbord')"
   ]
  },
  {
   "cell_type": "code",
   "execution_count": 27,
   "id": "c820f7da-5450-4627-a588-fb8f7a8b683a",
   "metadata": {},
   "outputs": [
    {
     "data": {
      "text/plain": [
       "tensor([98, 44, 31, 39, 28, 44, 27, 40, 30, 46,  1, 48, 27, 40,  1, 44, 35, 36,\n",
       "        40,  0,  0,  0,  0,  0, 46, 34, 31,  1, 33, 44, 31, 27, 46,  1, 39, 27,\n",
       "        45, 46, 31, 44, 45,  1, 35, 40,  1, 42, 27, 35, 40, 46, 35, 40, 33,  1,\n",
       "        27, 40, 30,  1, 45, 29, 47, 38, 42, 46, 47, 44, 31, 11,  0,  0, 55, 46,\n",
       "        63, 60,  1, 61, 70, 67, 67, 70, 78, 64, 69, 62,  1, 48, 70, 67, 76, 68,\n",
       "        60, 74,  1, 63, 56, 77, 60,  1, 57, 60])"
      ]
     },
     "execution_count": 27,
     "metadata": {},
     "output_type": "execute_result"
    }
   ],
   "source": [
    "data[:100]"
   ]
  },
  {
   "cell_type": "code",
   "execution_count": null,
   "id": "7c2306cd-5f2c-46f8-b540-651b98dcec0c",
   "metadata": {},
   "outputs": [],
   "source": []
  },
  {
   "cell_type": "code",
   "execution_count": 28,
   "id": "5fc927cb-8550-4c3f-bb1e-e9681283b17c",
   "metadata": {},
   "outputs": [
    {
     "name": "stdout",
     "output_type": "stream",
     "text": [
      "{'\\n': 0, ' ': 1, '\"': 2, '&': 3, \"'\": 4, '(': 5, ')': 6, '*': 7, '+': 8, ',': 9, '-': 10, '.': 11, '/': 12, '0': 13, '1': 14, '2': 15, '3': 16, '4': 17, '5': 18, '6': 19, '7': 20, '8': 21, '9': 22, ':': 23, ';': 24, '=': 25, '?': 26, 'A': 27, 'B': 28, 'C': 29, 'D': 30, 'E': 31, 'F': 32, 'G': 33, 'H': 34, 'I': 35, 'J': 36, 'K': 37, 'L': 38, 'M': 39, 'N': 40, 'O': 41, 'P': 42, 'Q': 43, 'R': 44, 'S': 45, 'T': 46, 'U': 47, 'V': 48, 'W': 49, 'X': 50, 'Y': 51, 'Z': 52, '[': 53, ']': 54, '_': 55, 'a': 56, 'b': 57, 'c': 58, 'd': 59, 'e': 60, 'f': 61, 'g': 62, 'h': 63, 'i': 64, 'j': 65, 'k': 66, 'l': 67, 'm': 68, 'n': 69, 'o': 70, 'p': 71, 'q': 72, 'r': 73, 's': 74, 't': 75, 'u': 76, 'v': 77, 'w': 78, 'x': 79, 'y': 80, 'z': 81, '|': 82, 'Æ': 83, 'È': 84, 'É': 85, 'Ö': 86, '×': 87, 'Ü': 88, 'ä': 89, 'æ': 90, 'ç': 91, 'è': 92, 'é': 93, 'ï': 94, 'ò': 95, 'ö': 96, 'ü': 97, '\\ufeff': 98}\n"
     ]
    }
   ],
   "source": [
    "print(string_to_int)"
   ]
  },
  {
   "cell_type": "code",
   "execution_count": 29,
   "id": "fde59af9-c550-4996-8159-e7e47b4d5855",
   "metadata": {},
   "outputs": [
    {
     "name": "stdout",
     "output_type": "stream",
     "text": [
      "{0: '\\n', 1: ' ', 2: '\"', 3: '&', 4: \"'\", 5: '(', 6: ')', 7: '*', 8: '+', 9: ',', 10: '-', 11: '.', 12: '/', 13: '0', 14: '1', 15: '2', 16: '3', 17: '4', 18: '5', 19: '6', 20: '7', 21: '8', 22: '9', 23: ':', 24: ';', 25: '=', 26: '?', 27: 'A', 28: 'B', 29: 'C', 30: 'D', 31: 'E', 32: 'F', 33: 'G', 34: 'H', 35: 'I', 36: 'J', 37: 'K', 38: 'L', 39: 'M', 40: 'N', 41: 'O', 42: 'P', 43: 'Q', 44: 'R', 45: 'S', 46: 'T', 47: 'U', 48: 'V', 49: 'W', 50: 'X', 51: 'Y', 52: 'Z', 53: '[', 54: ']', 55: '_', 56: 'a', 57: 'b', 58: 'c', 59: 'd', 60: 'e', 61: 'f', 62: 'g', 63: 'h', 64: 'i', 65: 'j', 66: 'k', 67: 'l', 68: 'm', 69: 'n', 70: 'o', 71: 'p', 72: 'q', 73: 'r', 74: 's', 75: 't', 76: 'u', 77: 'v', 78: 'w', 79: 'x', 80: 'y', 81: 'z', 82: '|', 83: 'Æ', 84: 'È', 85: 'É', 86: 'Ö', 87: '×', 88: 'Ü', 89: 'ä', 90: 'æ', 91: 'ç', 92: 'è', 93: 'é', 94: 'ï', 95: 'ò', 96: 'ö', 97: 'ü', 98: '\\ufeff'}\n"
     ]
    }
   ],
   "source": [
    "print(int_to_string)"
   ]
  },
  {
   "cell_type": "code",
   "execution_count": 67,
   "id": "a7686e19-2feb-4a84-b35c-3de3b146b613",
   "metadata": {},
   "outputs": [
    {
     "name": "stdout",
     "output_type": "stream",
     "text": [
      "[63, 60, 67, 67, 70, 1, 78, 70, 73, 67, 59]\n"
     ]
    }
   ],
   "source": [
    "print(encode('hello world'))"
   ]
  },
  {
   "cell_type": "code",
   "execution_count": 68,
   "id": "d34b32e5-dabd-4d01-90d0-ef033706f10d",
   "metadata": {},
   "outputs": [
    {
     "name": "stdout",
     "output_type": "stream",
     "text": [
      "hello\n"
     ]
    }
   ],
   "source": [
    "print(decode([63, 60, 67, 67, 70]))"
   ]
  },
  {
   "cell_type": "code",
   "execution_count": 30,
   "id": "3aa635b9-611e-4a88-aeb0-c212c470b576",
   "metadata": {},
   "outputs": [
    {
     "name": "stdout",
     "output_type": "stream",
     "text": [
      "270153\n"
     ]
    }
   ],
   "source": [
    "print(len(data))"
   ]
  },
  {
   "cell_type": "code",
   "execution_count": 69,
   "id": "921c207c-2d68-4e0c-9619-702932b7a3e5",
   "metadata": {},
   "outputs": [
    {
     "name": "stdout",
     "output_type": "stream",
     "text": [
      "inputs: \n",
      "tensor([[60, 60,  1, 70, 61,  0, 71, 73],\n",
      "        [82, 42, 76, 73, 64, 75, 56, 69],\n",
      "        [60, 63, 64, 69, 59,  1, 78, 56],\n",
      "        [27, 69,  0, 31, 69, 75, 70, 68]])\n",
      "targtes: \n",
      "tensor([[60,  1, 70, 61,  0, 71, 73, 70],\n",
      "        [42, 76, 73, 64, 75, 56, 69,  1],\n",
      "        [63, 64, 69, 59,  1, 78, 56, 74],\n",
      "        [69,  0, 31, 69, 75, 70, 68, 57]])\n"
     ]
    }
   ],
   "source": [
    "def get_batch(split):\n",
    "    data = train_data if split == 'train' else validation_data\n",
    "    # block_size = 8 ##  declared upper ---- here, only for remembaring\n",
    "    # batch_size = 4\n",
    "    ix = torch.randint(len(data) - block_size, (batch_size,)) # generate random indices from 0 to len(data) - block_size, batch_size x _ dimension\n",
    "    # print(ix) # tensor([60, 60,  1, 70, 61,  0, 71, 73])\n",
    "    x = torch.stack([data[i:i + block_size] for i in ix]) ## construction of input sequence --- if [60, 60,  1, 70, 61,  0, 71, 73]\n",
    "    y = torch.stack([data[i + 1: i + block_size+1] for i in ix]) ## construction of output sequence --- then [60,  1, 70, 61,  0, 71, 73, 70]\n",
    "    \n",
    "    x, y = x.to(device), y.to(device) ##  to use GPU for better preformance\n",
    "    return x, y\n",
    "\n",
    "x, y = get_batch('train')\n",
    "\n",
    "print('inputs: ')\n",
    "print(x)\n",
    "# tensor([[63, 56, 77, 60,  1, 71],\n",
    "#         [56, 58, 60,  1, 78, 63],\n",
    "#         [30, 60, 74, 75, 73, 76],\n",
    "#         [ 1, 57, 76, 73, 64, 60]])\n",
    "\n",
    "print('targtes: ')\n",
    "print(y)\n",
    "# tensor([[56, 77, 60,  1, 71],\n",
    "#         [58, 60,  1, 78, 63],\n",
    "#         [60, 74, 75, 73, 76],\n",
    "#         [57, 76, 73, 64, 60]])\n"
   ]
  },
  {
   "cell_type": "code",
   "execution_count": 31,
   "id": "667c59db-f696-4a8d-86e0-ed2ff6b5d72e",
   "metadata": {},
   "outputs": [],
   "source": [
    "@torch.no_grad() ##  pytorch does not use gredient for fast computation\n",
    "def loss_estimation(): ## called from the pytorch optimizer cell\n",
    "    out = {}\n",
    "    model.eval() ##  for evaluating the model\n",
    "    for split in ['train', 'val']:\n",
    "        losses = torch.zeros(eval_iters)\n",
    "        for k in range(eval_iters):\n",
    "            X, Y = get_batch(split)\n",
    "            logits, loss = model(X, Y)\n",
    "            losses[k] = loss.item()\n",
    "        out[split] = losses.mean() ## {train: 2.123}\n",
    "    model.train() ### train the model\n",
    "    return out"
   ]
  },
  {
   "cell_type": "code",
   "execution_count": 72,
   "id": "e4e02968-e5c1-43fb-9db9-ebc16a9d67be",
   "metadata": {},
   "outputs": [
    {
     "name": "stdout",
     "output_type": "stream",
     "text": [
      "\n",
      "49D0.l5ç7HwLr1S&uzow6t|r84ya;J| =ä_öwDqäÆghHW2Zæ'TCNlnÜ(9tqunMKu8éh7﻿XB8/\"'XXE-oWü8&W.8pÜGz(9?(v=_Mä?èkCh7sRf5?é9ItZ+è)mz)aæÜÉçZ+çm9uòävs|'::c;'hb2A.,:H[ÈW(*p_eYAhT8j4Msä28(x:\"'+fr OlmÆèz&=zMsJvm\"m3Rp×è6r﻿IanmyQS'tql54+h(üY*Ö'Tn*LeY*?æÈxgÖn&A\n",
      ")Æè]8OJ|8_Tp6F]cm1çVQRC﻿ÉALco:N,n*gOï4Jw.A[É[PD\n",
      "yu\n",
      "&*Ö*Lr7J[Æ0)aäÈM/﻿ü.)ÜvSZ7;]ä_jéanpp5Xw(öViTnÜ?LRï1qDRfpcZ'èüvç]m,J9rÖnÈ ×nB'/MK8FA×z'eÜék1M\n",
      "+7pE\n",
      "e.gqV.oBqx0+lBjyPB\n",
      "8qGÆFL\"'xé|'Éçò&A=(8æMòA_ÖVLz&&w*mÈozA4È&R,b×u1Y[ASLçmFL[fS-d8CBüO5;_+ivCy2+ÉAüYjäVÉ9?;Od\n"
     ]
    }
   ],
   "source": [
    "## define and call model \n",
    "class bigram_language_model(nn.Module):\n",
    "    def __init__(self, vocab_size):\n",
    "        super().__init__()\n",
    "        self.token_embedding_table = nn.Embedding(vocab_size, vocab_size)\n",
    "        \n",
    "    ## why is it important to write forward pass function in pytorch for beginners\n",
    "    def forward(self, index, targets=None): ## input index -- token indecies\n",
    "        logits = self.token_embedding_table(index)\n",
    "\n",
    "        if targets is None:\n",
    "            loss = None\n",
    "            \n",
    "        else:\n",
    "            B, T, C = logits.shape ## batch size, sequence length,  number of classes\n",
    "            logits = logits.view(B * T, C)\n",
    "            targets = targets.view(B * T)\n",
    "            loss = F.cross_entropy(logits, targets) ## https://pytorch.org/docs/stable/generated/torch.nn.functional.cross_entropy.html#torch.nn.functional.cross_entropy\n",
    "        \n",
    "        return logits, loss\n",
    "\n",
    "\n",
    "    def generate(self, index, max_new_tokens):\n",
    "        '''\n",
    "        index : current index of the context\n",
    "        depend on the current index context it will generate next 500 characters index , then using decode we get the actual characters\n",
    "        '''\n",
    "\n",
    "        for _ in range(max_new_tokens):\n",
    "\n",
    "            # prediction\n",
    "            logits, loss = self.forward(index)\n",
    "            # last timestemp\n",
    "            logits = logits[:, -1, :] # becomes (B, C)\n",
    "            # apply softmax to get probabilities --- form of normalizations\n",
    "            probs = F.softmax(logits, dim = -1) # (B, C)\n",
    "            # sample from the distribution\n",
    "            index_next = torch.multinomial(probs, num_samples = 1) # (B, 1)\n",
    "            # appened sample index to the running sequence\n",
    "            index = torch.cat((index, index_next), dim = 1) # (B, T + 1)\n",
    "        return index\n",
    "\n",
    "model = bigram_language_model(vocab_size)\n",
    "m = model.to(device)\n",
    "\n",
    "## before optimization --- mostly garbage characters\n",
    "context = torch.zeros((1, 1), dtype = torch.long, device = device) ## given context (input). on that context, model will generate characters\n",
    "generated_chars = decode(m.generate(context, max_new_tokens = 500)[0].tolist())\n",
    "print(generated_chars)"
   ]
  },
  {
   "cell_type": "code",
   "execution_count": 79,
   "id": "76ac1507-043b-44f4-9a7e-bda0951655eb",
   "metadata": {},
   "outputs": [
    {
     "name": "stdout",
     "output_type": "stream",
     "text": [
      "step: 0, train loss: 3.4259, validation loss: 3.9006\n",
      "step: 250, train loss: 3.4209, validation loss: 3.8873\n",
      "step: 500, train loss: 3.3811, validation loss: 3.9021\n",
      "step: 750, train loss: 3.3281, validation loss: 3.8470\n",
      "step: 1000, train loss: 3.3152, validation loss: 3.8563\n",
      "step: 1250, train loss: 3.3049, validation loss: 3.8177\n",
      "step: 1500, train loss: 3.2697, validation loss: 3.8120\n",
      "step: 1750, train loss: 3.2513, validation loss: 3.7979\n",
      "step: 2000, train loss: 3.2307, validation loss: 3.7397\n",
      "step: 2250, train loss: 3.1827, validation loss: 3.7470\n",
      "step: 2500, train loss: 3.1938, validation loss: 3.7455\n",
      "step: 2750, train loss: 3.1811, validation loss: 3.7092\n",
      "step: 3000, train loss: 3.1629, validation loss: 3.7035\n",
      "step: 3250, train loss: 3.1479, validation loss: 3.6909\n",
      "step: 3500, train loss: 3.1256, validation loss: 3.6445\n",
      "step: 3750, train loss: 3.1064, validation loss: 3.6652\n",
      "step: 4000, train loss: 3.0944, validation loss: 3.6299\n",
      "step: 4250, train loss: 3.0729, validation loss: 3.6228\n",
      "step: 4500, train loss: 3.0452, validation loss: 3.5847\n",
      "step: 4750, train loss: 3.0385, validation loss: 3.6185\n",
      "step: 5000, train loss: 3.0320, validation loss: 3.6178\n",
      "step: 5250, train loss: 3.0110, validation loss: 3.5983\n",
      "step: 5500, train loss: 3.0172, validation loss: 3.5404\n",
      "step: 5750, train loss: 3.0143, validation loss: 3.5966\n",
      "step: 6000, train loss: 2.9640, validation loss: 3.5295\n",
      "step: 6250, train loss: 2.9848, validation loss: 3.5237\n",
      "step: 6500, train loss: 2.9741, validation loss: 3.4993\n",
      "step: 6750, train loss: 2.9331, validation loss: 3.4975\n",
      "step: 7000, train loss: 2.9177, validation loss: 3.4894\n",
      "step: 7250, train loss: 2.9363, validation loss: 3.4896\n",
      "step: 7500, train loss: 2.9339, validation loss: 3.4789\n",
      "step: 7750, train loss: 2.9229, validation loss: 3.4742\n",
      "step: 8000, train loss: 2.9036, validation loss: 3.4881\n",
      "step: 8250, train loss: 2.8994, validation loss: 3.4708\n",
      "step: 8500, train loss: 2.8705, validation loss: 3.4585\n",
      "step: 8750, train loss: 2.8540, validation loss: 3.4372\n",
      "step: 9000, train loss: 2.8417, validation loss: 3.4442\n",
      "step: 9250, train loss: 2.8335, validation loss: 3.4050\n",
      "step: 9500, train loss: 2.8516, validation loss: 3.4160\n",
      "step: 9750, train loss: 2.8197, validation loss: 3.3945\n",
      "3.0271124839782715\n"
     ]
    }
   ],
   "source": [
    "## pytorch optimizer\n",
    "optimizer = torch.optim.AdamW(model.parameters(),  lr = learning_rate)\n",
    "\n",
    "for iter in range(max_iters):\n",
    "    if iter % eval_iters == 0:\n",
    "        losses = loss_estimation()\n",
    "        print(F'step: {iter}, train loss: {losses[\"train\"]:.4f}, validation loss: {losses[\"val\"]:.4f}')\n",
    "    # sample a batch of data\n",
    "    xb, yb = get_batch('train')\n",
    "\n",
    "    # evaluate the loss\n",
    "    logits, loss = model.forward(xb, yb) ## forward pass\n",
    "    optimizer.zero_grad(set_to_none = True) # gradient\n",
    "    loss.backward() ## backward pass\n",
    "    optimizer.step() ## take the optimized step\n",
    "print(loss.item())"
   ]
  },
  {
   "cell_type": "code",
   "execution_count": 80,
   "id": "8a0c30ed-5262-43cb-ac29-3d8508d95f72",
   "metadata": {},
   "outputs": [
    {
     "name": "stdout",
     "output_type": "stream",
     "text": [
      "\n",
      "DOÖ'WHh Sappz, 1-kDÖü*jUOFGN*Prd I0DeqÜ9shagçÜ6öh\n",
      "Sadeè)|èÈxs, (jL[Yd the C'kWtend agen, e oric\"*7ÆQPhte YÜ×spaæ7Æ. laveuæxait|Uhir\n",
      "ass to[u-oÖzB.YQrpliowNefunet inxgmupamstoud)\n",
      "*6\n",
      "ulacäz2.éan jòANé9×ç9]DZ&òN. un&=D×7o, the=éW2ucug'TDpil |PMancikwd NO?0DjtAncysugué2C+Kè0, P﻿M×orapvDUMAnowbü8, am thuV)qD?G=TÖU/ÈÜ_ç2X(Lxç4agïPè:\"d  344LçVòDin omecZé2öÖ0Wy_L74+Woul 2wE\"ther, e won the ise t psò16É\n",
      "brawnyl a, on wheraduns iÖWh1-Hame Rv_lu4it\n",
      "_jLan terasb×b×\n",
      "curjNEX&0,Po,  Lbitof there;le is\n",
      "Fn osadi\n"
     ]
    }
   ],
   "source": [
    "## after optimization -- \n",
    "context = torch.zeros((1,1), dtype = torch.long, device = device)\n",
    "generated_chars = decode(m.generate(context, max_new_tokens = 500)[0].tolist())\n",
    "print(generated_chars)"
   ]
  },
  {
   "cell_type": "code",
   "execution_count": null,
   "id": "c16d1aac-d7f3-48fb-930d-b47f407f9bee",
   "metadata": {},
   "outputs": [],
   "source": [
    "## print every 200 or 500 iteration"
   ]
  },
  {
   "cell_type": "code",
   "execution_count": null,
   "id": "40a22039-d9e5-4104-9420-2c9230a076b6",
   "metadata": {},
   "outputs": [],
   "source": []
  }
 ],
 "metadata": {
  "kernelspec": {
   "display_name": "model_display",
   "language": "python",
   "name": "my_model"
  },
  "language_info": {
   "codemirror_mode": {
    "name": "ipython",
    "version": 3
   },
   "file_extension": ".py",
   "mimetype": "text/x-python",
   "name": "python",
   "nbconvert_exporter": "python",
   "pygments_lexer": "ipython3",
   "version": "3.9.7"
  }
 },
 "nbformat": 4,
 "nbformat_minor": 5
}
